{
 "cells": [
  {
   "cell_type": "code",
   "execution_count": 16,
   "id": "3eed9e6b-da61-4cf1-b72c-405c0cc22446",
   "metadata": {},
   "outputs": [
    {
     "name": "stdout",
     "output_type": "stream",
     "text": [
      "Found solution after 6 iterations.\n"
     ]
    },
    {
     "data": {
      "text/plain": [
       "0.8526059555556065"
      ]
     },
     "execution_count": 16,
     "metadata": {},
     "output_type": "execute_result"
    }
   ],
   "source": [
    "# function Newton() {\n",
    "# sheet=SpreadsheetApp.getActiveSheet()\n",
    "# Xo=_______________\n",
    "# for(iter=0;iter<=30;iter=iter+1){\n",
    "# Yo=______________\n",
    "# sheet.getRange(iter+5,1).setValue(iter)\n",
    "# sheet.getRange(iter+5,2).setValue(Xo)\n",
    "# sheet.getRange(iter+5,3).setValue(Yo)\n",
    "# if(Math.abs(Yo)<.001){\n",
    "# sheet.getRange(iter+5,6).setValue(\"STOP\");\n",
    "# return}\n",
    "# Xd=Xo+.001\n",
    "# Yd=_____________\n",
    "# M=(Yd-Yo)/(Xd-Xo)\n",
    "# Xo=Xo-Yo/M\n",
    "# sheet.getRange(iter+5,4).setValue(M)\n",
    "# sheet.getRange(iter+5,5).setValue(Xo) } }\n",
    "\n",
    "import math\n",
    "STEP = 0.001\n",
    "\n",
    "def f(x):\n",
    "    return x * math.exp(x) - 2\n",
    "\n",
    "def newton(X0, epsilon, max_iterations):\n",
    "    Xn = X0\n",
    "    for n in range(max_iterations):\n",
    "        FXn = f(Xn)\n",
    "        \n",
    "        if abs(FXn) < epsilon:\n",
    "            print('Found solution after',n,'iterations.')\n",
    "            return Xn\n",
    "            \n",
    "        M = (f(Xn + STEP) - FXn) / STEP\n",
    "        \n",
    "        if M == 0:\n",
    "            print('Zero derivative. No solution found.')\n",
    "            return None\n",
    "            \n",
    "        Xn = Xn - FXn/M\n",
    "        \n",
    "\n",
    "    print('Exceeded maximum iterations. No solution found.')\n",
    "    return None\n",
    "\n",
    "newton(X0=0, epsilon=0.001, max_iterations=30)\n",
    "\n",
    "        \n"
   ]
  },
  {
   "cell_type": "code",
   "execution_count": null,
   "id": "1968d566-d72e-4d9b-b312-798f8d6f8219",
   "metadata": {},
   "outputs": [],
   "source": []
  }
 ],
 "metadata": {
  "kernelspec": {
   "display_name": "Python 3 (ipykernel)",
   "language": "python",
   "name": "python3"
  },
  "language_info": {
   "codemirror_mode": {
    "name": "ipython",
    "version": 3
   },
   "file_extension": ".py",
   "mimetype": "text/x-python",
   "name": "python",
   "nbconvert_exporter": "python",
   "pygments_lexer": "ipython3",
   "version": "3.9.6"
  }
 },
 "nbformat": 4,
 "nbformat_minor": 5
}
